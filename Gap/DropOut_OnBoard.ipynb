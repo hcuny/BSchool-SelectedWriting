{
 "cells": [
  {
   "cell_type": "markdown",
   "metadata": {},
   "source": [
    "# Summary\n",
    "In this task, given the .dta data file, we will create a data extracting and transforming pipeline, to generate a new data frame for further analysis. Code is implemented in Python.\n",
    "\n",
    "## Objective\n",
    "Our target data frame contains columns: ['store_id', 'month', 'active_num', 'drop_out_num', 'on_board_num', 'details'],<br\\>\n",
    "\n",
    "Explanation of what each row means: In a given month(**\"month\"**) of a given store(**\"store_id\"**), <br\\>\n",
    "**\"active_num\"** counts how many different employees are working for this store in this month;<br\\>\n",
    "**\"drop_out_num\"** counts how many employees left this store during the **last month** and never came back, never came back means they never appeared in the records of this store after leaving;<br\\>\n",
    "**\"on_board_num\"** counts how many **new employees** joined this store during the **last month**, new means they haven't appeared in the records of this store before.<br\\>\n",
    "**\"details\"** shows exactly who dropped out and newly entered by their employee id.\n",
    "\n",
    "## A few notes\n",
    "1. We will drop the data of the first month of each store, since we do not have previous data.\n",
    "2. We ingored 7 rows in the raw data, since their corresponding \"month\" is null.\n"
   ]
  },
  {
   "cell_type": "markdown",
   "metadata": {
    "collapsed": true
   },
   "source": [
    "## Data  Preprocessing"
   ]
  },
  {
   "cell_type": "markdown",
   "metadata": {},
   "source": [
    "Import a few packages at first."
   ]
  },
  {
   "cell_type": "code",
   "execution_count": 1,
   "metadata": {
    "collapsed": false
   },
   "outputs": [],
   "source": [
    "import pandas as pd\n",
    "from datetime import datetime\n",
    "from pandas import Timestamp  #原来这个是pandas里面的"
   ]
  },
  {
   "cell_type": "markdown",
   "metadata": {},
   "source": [
    "Read the raw stata file \"personnel_data.dta\" as a Pandas dataframe."
   ]
  },
  {
   "cell_type": "code",
   "execution_count": 2,
   "metadata": {
    "collapsed": false
   },
   "outputs": [],
   "source": [
    "df=pd.read_stata('Y://Data//ra//labor2//personnel_data.dta')"
   ]
  },
  {
   "cell_type": "markdown",
   "metadata": {},
   "source": [
    "To look more clear and reduce complexity, we create a new dataframe that only includes columns that we might use in this task."
   ]
  },
  {
   "cell_type": "code",
   "execution_count": 3,
   "metadata": {
    "collapsed": false,
    "scrolled": true
   },
   "outputs": [],
   "source": [
    "dfuse = df.loc[:,['id_pro','month', 'store_num', 'store_date', 'entry_date','hire_date']]"
   ]
  },
  {
   "cell_type": "markdown",
   "metadata": {},
   "source": [
    "Transform the employee id column from float to int."
   ]
  },
  {
   "cell_type": "code",
   "execution_count": 5,
   "metadata": {
    "collapsed": false
   },
   "outputs": [],
   "source": [
    "# transform id\n",
    "new_id=[int(ele) for ele in dfuse['id_pro']]\n",
    "dfuse['id_pro']=new_id"
   ]
  },
  {
   "cell_type": "markdown",
   "metadata": {},
   "source": [
    "Filter rows whose \"month\" column is null."
   ]
  },
  {
   "cell_type": "code",
   "execution_count": 6,
   "metadata": {
    "collapsed": false
   },
   "outputs": [
    {
     "data": {
      "text/html": [
       "<div>\n",
       "<table border=\"1\" class=\"dataframe\">\n",
       "  <thead>\n",
       "    <tr style=\"text-align: right;\">\n",
       "      <th></th>\n",
       "      <th>id_pro</th>\n",
       "      <th>month</th>\n",
       "      <th>store_num</th>\n",
       "      <th>store_date</th>\n",
       "      <th>entry_date</th>\n",
       "      <th>hire_date</th>\n",
       "    </tr>\n",
       "  </thead>\n",
       "  <tbody>\n",
       "    <tr>\n",
       "      <th>16736</th>\n",
       "      <td>5391576</td>\n",
       "      <td>NaT</td>\n",
       "      <td>145</td>\n",
       "      <td>2015-10-07</td>\n",
       "      <td>2015-10-07</td>\n",
       "      <td>2015-10-07</td>\n",
       "    </tr>\n",
       "    <tr>\n",
       "      <th>16796</th>\n",
       "      <td>5393424</td>\n",
       "      <td>NaT</td>\n",
       "      <td>515</td>\n",
       "      <td>2015-10-15</td>\n",
       "      <td>2015-10-15</td>\n",
       "      <td>2015-10-15</td>\n",
       "    </tr>\n",
       "    <tr>\n",
       "      <th>16807</th>\n",
       "      <td>5393838</td>\n",
       "      <td>NaT</td>\n",
       "      <td>537</td>\n",
       "      <td>2015-10-16</td>\n",
       "      <td>2015-10-16</td>\n",
       "      <td>2015-10-16</td>\n",
       "    </tr>\n",
       "    <tr>\n",
       "      <th>18491</th>\n",
       "      <td>5473824</td>\n",
       "      <td>NaT</td>\n",
       "      <td>516</td>\n",
       "      <td>2016-01-10</td>\n",
       "      <td>2016-01-10</td>\n",
       "      <td>2016-01-10</td>\n",
       "    </tr>\n",
       "    <tr>\n",
       "      <th>18526</th>\n",
       "      <td>5474222</td>\n",
       "      <td>NaT</td>\n",
       "      <td>9605</td>\n",
       "      <td>2016-01-16</td>\n",
       "      <td>2016-01-16</td>\n",
       "      <td>2016-01-16</td>\n",
       "    </tr>\n",
       "    <tr>\n",
       "      <th>18562</th>\n",
       "      <td>5475698</td>\n",
       "      <td>NaT</td>\n",
       "      <td>516</td>\n",
       "      <td>2016-01-23</td>\n",
       "      <td>2016-01-23</td>\n",
       "      <td>2016-01-23</td>\n",
       "    </tr>\n",
       "    <tr>\n",
       "      <th>20351</th>\n",
       "      <td>5548628</td>\n",
       "      <td>NaT</td>\n",
       "      <td>139</td>\n",
       "      <td>2016-06-20</td>\n",
       "      <td>2016-06-20</td>\n",
       "      <td>2016-06-20</td>\n",
       "    </tr>\n",
       "  </tbody>\n",
       "</table>\n",
       "</div>"
      ],
      "text/plain": [
       "        id_pro month  store_num store_date entry_date  hire_date\n",
       "16736  5391576   NaT        145 2015-10-07 2015-10-07 2015-10-07\n",
       "16796  5393424   NaT        515 2015-10-15 2015-10-15 2015-10-15\n",
       "16807  5393838   NaT        537 2015-10-16 2015-10-16 2015-10-16\n",
       "18491  5473824   NaT        516 2016-01-10 2016-01-10 2016-01-10\n",
       "18526  5474222   NaT       9605 2016-01-16 2016-01-16 2016-01-16\n",
       "18562  5475698   NaT        516 2016-01-23 2016-01-23 2016-01-23\n",
       "20351  5548628   NaT        139 2016-06-20 2016-06-20 2016-06-20"
      ]
     },
     "execution_count": 6,
     "metadata": {},
     "output_type": "execute_result"
    }
   ],
   "source": [
    "#take care of this missing values later on\n",
    "dfuse[dfuse['month'].isnull()]"
   ]
  },
  {
   "cell_type": "markdown",
   "metadata": {},
   "source": [
    "## Main Process\n",
    "First we created an empty dataframe **target_df**, and we designed 2 loops: iteration through each month (inner loop), and iteration through each store (outer loop). As we iterate through the 2 loop, we will sequentially fill in the target dataframe.\n",
    "\n",
    "The minimum unit we deal with is the subdataframe of records for each month in each store: **month_df**.\n",
    "**emp_thism** is the set of employees that are actively working in this month, thus the number of active employees is just the length of this set. <br\\>\n",
    "\n",
    "To get this drop-out number and details, all we need to do is 2 things: \n",
    "1. First check which employee appeared in the last month and not appear this month, denote this set as **potential_drop**, it was calculated by using set difference operation between 2 months' employee id (**emp_lastm** and **emp_thism**).\n",
    "2. In **potential_drop** set, get those employee id that never appeared afterwards, and this is our **drop_set**. How do we do this? We aggregated all unique employee id that appeared after this month(**empafter**), and do a set difference operation.\n",
    "\n",
    "The on-board number calculation is just symmetric as the drop-out calculation, thus I'll not go into details here."
   ]
  },
  {
   "cell_type": "code",
   "execution_count": 28,
   "metadata": {
    "collapsed": false,
    "scrolled": true
   },
   "outputs": [],
   "source": [
    "target_df=pd.DataFrame(columns=['store_id', 'month','active_num', 'drop_out_num', 'on_board_num', 'details'])\n",
    "index=0\n",
    "storenum=set(dfuse['store_num']) #get a unique list of store id\n",
    "\n",
    "#----------------------------------- outer loop ----------------------------------------------\n",
    "for store in storenum:   \n",
    "    \n",
    "    # Get the subdataframe of each store.\n",
    "    subdf=dfuse[dfuse['store_num']==store]\n",
    "    monthlist=sorted(set(subdf['month']))\n",
    "    monthlist=[ele for ele in monthlist if ele.month in range(1,13)] # not include NaT\n",
    "\n",
    "#----------------------------------- inner loop -----------------------------------------------\n",
    "    for i in range(len(monthlist)): \n",
    "        \n",
    "        # get subdataframe of each month in each store\n",
    "        monthdf=subdf[subdf['month']==monthlist[i]]\n",
    "               \n",
    "        emp_thism=set(monthdf['id_pro']) # set of active employees\n",
    "        active_num=len(emp_thism) # active employees at this time\n",
    "        \n",
    "        # first month, do nothing but skip\n",
    "        if i==0:\n",
    "            continue\n",
    "            \n",
    "        # not the first month, start working\n",
    "        else:\n",
    "            lastmonthdf=subdf[subdf['month']==monthlist[i-1]] #subdataframe of last month\n",
    "            emp_lastm=set(lastmonthdf['id_pro'])  #employees of last month\n",
    "            potential_drop = emp_lastm.difference(emp_thism) \n",
    "            potential_on   = emp_thism.difference(emp_lastm) \n",
    "            empafter  = set(subdf[subdf['month'] > monthlist[i]][\"id_pro\"])\n",
    "            empbefore = set(subdf[subdf['month'] < monthlist[i]][\"id_pro\"])\n",
    "            drop_set = potential_drop.difference(empafter)\n",
    "            on_set = potential_on.difference(empbefore)\n",
    "            message={}\n",
    "            message['drop out detail']=drop_set\n",
    "            message['on board detail']=on_set      \n",
    "            \n",
    "        # fill in one row of our target dataframe, and go to next iteration\n",
    "        target_df.loc[index,:]=[store, monthlist[i],active_num, len(drop_set), len(on_set), message]\n",
    "        index+=1 "
   ]
  },
  {
   "cell_type": "markdown",
   "metadata": {},
   "source": [
    "At last, save the target data frame as a csv file."
   ]
  },
  {
   "cell_type": "code",
   "execution_count": 26,
   "metadata": {
    "collapsed": false,
    "scrolled": true
   },
   "outputs": [],
   "source": [
    "target_df.to_csv(\"Y://gap_result.csv\")"
   ]
  }
 ],
 "metadata": {
  "anaconda-cloud": {},
  "kernelspec": {
   "display_name": "Python [Root]",
   "language": "python",
   "name": "Python [Root]"
  },
  "language_info": {
   "codemirror_mode": {
    "name": "ipython",
    "version": 3
   },
   "file_extension": ".py",
   "mimetype": "text/x-python",
   "name": "python",
   "nbconvert_exporter": "python",
   "pygments_lexer": "ipython3",
   "version": "3.5.2"
  }
 },
 "nbformat": 4,
 "nbformat_minor": 0
}
